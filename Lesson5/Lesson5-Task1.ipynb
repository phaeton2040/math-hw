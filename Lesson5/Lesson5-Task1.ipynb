{
 "cells": [
  {
   "cell_type": "raw",
   "metadata": {},
   "source": [
    "E = [\n",
    " [1,0,0,0,0],\n",
    " [0,1,0,0,0],\n",
    " [0,0,1,0,0],\n",
    " [0,0,0,1,0],\n",
    " [0,0,0,0,1]\n",
    "]\n",
    "E*5 = [\n",
    " [5,0,0,0,0],\n",
    " [0,5,0,0,0],\n",
    " [0,0,5,0,0],\n",
    " [0,0,0,5,0],\n",
    " [0,0,0,0,5]\n",
    "]\n",
    "(E*5)^-1 = [\n",
    " [1/5,0,0,0,0],\n",
    " [0,1/5,0,0,0],\n",
    " [0,0,1/5,0,0],\n",
    " [0,0,0,1/5,0],\n",
    " [0,0,0,0,1/5]\n",
    "]\n"
   ]
  }
 ],
 "metadata": {
  "kernelspec": {
   "display_name": "Python 3",
   "language": "python",
   "name": "python3"
  },
  "language_info": {
   "codemirror_mode": {
    "name": "ipython",
    "version": 3
   },
   "file_extension": ".py",
   "mimetype": "text/x-python",
   "name": "python",
   "nbconvert_exporter": "python",
   "pygments_lexer": "ipython3",
   "version": "3.7.1"
  }
 },
 "nbformat": 4,
 "nbformat_minor": 2
}
