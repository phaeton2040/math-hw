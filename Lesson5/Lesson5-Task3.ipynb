{
 "cells": [
  {
   "cell_type": "raw",
   "metadata": {},
   "source": [
    "### Вычислите матрицу, обратную данной:"
   ]
  },
  {
   "cell_type": "raw",
   "metadata": {},
   "source": [
    "|1 2 3|\n",
    "|4 0 6| = 1 * |0 6| - 2 * |4 6| + 3 * |4 0| = -48 + 12 + 96 = 60 (определитель)\n",
    "|7 8 9|       |8 9|       |7 9|       |7 8|"
   ]
  },
  {
   "cell_type": "raw",
   "metadata": {},
   "source": [
    "Вычисляем матрицу миноров и алгебраических дополнений"
   ]
  },
  {
   "cell_type": "raw",
   "metadata": {},
   "source": [
    "||0 6| |4 6| |4 0||   \n",
    "||8 9| |7 9| |7 8||\n",
    "|                 |   | -48 -6  32 |\n",
    "||2 3| |1 3| |1 2|| = | -6  -12 -6 | (матрица миноров)\n",
    "||8 9| |7 9| |7 8||   | 12  -6  -8 |\n",
    "|                 |\n",
    "||2 3| |1 3| |1 2||\n",
    "||0 6| |4 6| |4 0||"
   ]
  },
  {
   "cell_type": "raw",
   "metadata": {},
   "source": [
    "|-48 6  32|\n",
    "| 6  12  6| (матрица алгебраических дополнений)\n",
    "|12  6  -8|"
   ]
  },
  {
   "cell_type": "raw",
   "metadata": {},
   "source": [
    "найдем обратную матрицу"
   ]
  },
  {
   "cell_type": "raw",
   "metadata": {},
   "source": [
    "       |-48 6  32|                 | -0.8  0.1  0.2 |\n",
    "А^-1 = | 6  12  6| * (1 / det A) = |  0.1 -0.2  0.1 |\n",
    "       | 32 6  -8|                 | 8/15  0.1 -2/15|"
   ]
  },
  {
   "cell_type": "raw",
   "metadata": {},
   "source": [
    "### Приведите пример матрицы 4х4, ранг которой равен 1."
   ]
  },
  {
   "cell_type": "code",
   "execution_count": 10,
   "metadata": {},
   "outputs": [],
   "source": [
    "import numpy as np"
   ]
  },
  {
   "cell_type": "code",
   "execution_count": 11,
   "metadata": {},
   "outputs": [
    {
     "data": {
      "text/plain": [
       "1"
      ]
     },
     "execution_count": 11,
     "metadata": {},
     "output_type": "execute_result"
    }
   ],
   "source": [
    "e = [\n",
    "    [1,0,0,0],\n",
    "    [0,0,0,0],\n",
    "    [0,0,0,0],\n",
    "    [0,0,0,0]\n",
    "]\n",
    "np.linalg.matrix_rank(e)"
   ]
  }
 ],
 "metadata": {
  "kernelspec": {
   "display_name": "Python 3",
   "language": "python",
   "name": "python3"
  },
  "language_info": {
   "codemirror_mode": {
    "name": "ipython",
    "version": 3
   },
   "file_extension": ".py",
   "mimetype": "text/x-python",
   "name": "python",
   "nbconvert_exporter": "python",
   "pygments_lexer": "ipython3",
   "version": "3.7.1"
  }
 },
 "nbformat": 4,
 "nbformat_minor": 2
}
