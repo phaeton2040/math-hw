{
 "cells": [
  {
   "cell_type": "code",
   "execution_count": 2,
   "metadata": {},
   "outputs": [],
   "source": [
    "%matplotlib inline\n",
    "import numpy as np\n",
    "import math"
   ]
  },
  {
   "cell_type": "code",
   "execution_count": 5,
   "metadata": {},
   "outputs": [
    {
     "name": "stdout",
     "output_type": "stream",
     "text": [
      "\n",
      "8.452668148398502\n",
      "8\n",
      "\n",
      "14.883715142827953\n",
      "14\n",
      "\n",
      "35.742729113881566\n",
      "35\n",
      "\n",
      "26.588307845603644\n",
      "26\n",
      "\n",
      "25.236938094870176\n",
      "25\n",
      "\n",
      "26.7256139541768\n",
      "26\n",
      "\n",
      "36.47906293110318\n",
      "36\n",
      "\n",
      "26.38868463698052\n",
      "26\n",
      "\n",
      "2.4892132531749853\n",
      "2\n",
      "\n",
      "33.862578500543876\n",
      "33\n"
     ]
    }
   ],
   "source": [
    "for i in range(0, 10):\n",
    "    a = input()\n",
    "    x = np.random.uniform(0, 37)\n",
    "    print(x)\n",
    "    print(math.floor(x))"
   ]
  }
 ],
 "metadata": {
  "kernelspec": {
   "display_name": "Python 3",
   "language": "python",
   "name": "python3"
  },
  "language_info": {
   "codemirror_mode": {
    "name": "ipython",
    "version": 3
   },
   "file_extension": ".py",
   "mimetype": "text/x-python",
   "name": "python",
   "nbconvert_exporter": "python",
   "pygments_lexer": "ipython3",
   "version": "3.7.1"
  }
 },
 "nbformat": 4,
 "nbformat_minor": 2
}
