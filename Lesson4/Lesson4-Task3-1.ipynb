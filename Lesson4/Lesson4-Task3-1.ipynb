{
 "cells": [
  {
   "cell_type": "code",
   "execution_count": 1,
   "metadata": {},
   "outputs": [],
   "source": [
    "import numpy as np\n",
    "import itertools"
   ]
  },
  {
   "cell_type": "code",
   "execution_count": 62,
   "metadata": {},
   "outputs": [
    {
     "name": "stdout",
     "output_type": "stream",
     "text": [
      "2 4 0.389\n"
     ]
    }
   ],
   "source": [
    "successes, trials, k = 0, 1000, 2\n",
    "a = np.random.randint(0, 2, trials)\n",
    "b = np.random.randint(0, 2, trials)\n",
    "c = np.random.randint(0, 2, trials)\n",
    "d = np.random.randint(0, 2, trials)\n",
    "\n",
    "x = a + b + c + d\n",
    "\n",
    "for i in range(0, trials):\n",
    "    if x[i] == k:\n",
    "        successes += 1\n",
    "print(k, n, successes/trials)"
   ]
  },
  {
   "cell_type": "raw",
   "metadata": {},
   "source": [
    "При увеличении кол-ва испытаний, k/n стремится к 0.375\n",
    "Ниже получим вероятность выпадения k орлов из n испытаний с помощью itertools"
   ]
  },
  {
   "cell_type": "code",
   "execution_count": 75,
   "metadata": {},
   "outputs": [],
   "source": [
    "def iter_count(k, n):\n",
    "    successes = 0\n",
    "    for p in itertools.product('01', repeat=n):\n",
    "        if (p.count('1') == k):\n",
    "            successes += 1\n",
    "    return successes / (2**n)"
   ]
  },
  {
   "cell_type": "code",
   "execution_count": 76,
   "metadata": {},
   "outputs": [
    {
     "name": "stdout",
     "output_type": "stream",
     "text": [
      "0.375\n",
      "0.234375\n",
      "0.0439453125\n",
      "0.03696441650390625\n"
     ]
    }
   ],
   "source": [
    "print(iter_count(2, 4))\n",
    "print(iter_count(2, 6))\n",
    "print(iter_count(2, 10))\n",
    "print(iter_count(6, 20))"
   ]
  },
  {
   "cell_type": "raw",
   "metadata": {},
   "source": [
    "Получим вероятность выпадения k орлов из n испытаний с помощью формуллы Бернулли"
   ]
  },
  {
   "cell_type": "code",
   "execution_count": 72,
   "metadata": {},
   "outputs": [],
   "source": [
    "import math\n",
    "def bernulli(k, n):\n",
    "    return (math.factorial(n)/(math.factorial(k) * math.factorial(n - k))) * (1/2**n)"
   ]
  },
  {
   "cell_type": "code",
   "execution_count": 77,
   "metadata": {},
   "outputs": [
    {
     "name": "stdout",
     "output_type": "stream",
     "text": [
      "0.375\n",
      "0.234375\n",
      "0.0439453125\n",
      "0.03696441650390625\n"
     ]
    }
   ],
   "source": [
    "print(bernulli(2, 4))\n",
    "print(bernulli(2, 6))\n",
    "print(bernulli(2, 10))\n",
    "print(bernulli(6, 20))"
   ]
  }
 ],
 "metadata": {
  "kernelspec": {
   "display_name": "Python 3",
   "language": "python",
   "name": "python3"
  },
  "language_info": {
   "codemirror_mode": {
    "name": "ipython",
    "version": 3
   },
   "file_extension": ".py",
   "mimetype": "text/x-python",
   "name": "python",
   "nbconvert_exporter": "python",
   "pygments_lexer": "ipython3",
   "version": "3.7.1"
  }
 },
 "nbformat": 4,
 "nbformat_minor": 2
}
