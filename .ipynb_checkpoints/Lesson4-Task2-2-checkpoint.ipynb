{
 "cells": [
  {
   "cell_type": "code",
   "execution_count": 10,
   "metadata": {},
   "outputs": [],
   "source": [
    "%matplotlib inline\n",
    "import numpy as np\n",
    "import math\n",
    "import matplotlib.pyplot as plt"
   ]
  },
  {
   "cell_type": "code",
   "execution_count": 15,
   "metadata": {},
   "outputs": [],
   "source": [
    "results = []\n",
    "trials = 100000\n",
    "for i in range(0, trials):\n",
    "    trial = []\n",
    "    for j in range(0, 10):\n",
    "        x = np.random.uniform(0, 1)\n",
    "        trial.append(x)\n",
    "    results.append(trial)"
   ]
  },
  {
   "cell_type": "code",
   "execution_count": 16,
   "metadata": {},
   "outputs": [
    {
     "data": {
      "text/plain": [
       "(array([3.000e+00, 4.000e+00, 1.500e+01, 2.800e+01, 5.300e+01, 8.100e+01,\n",
       "        1.340e+02, 2.200e+02, 3.390e+02, 5.100e+02, 7.360e+02, 1.013e+03,\n",
       "        1.287e+03, 1.653e+03, 2.141e+03, 2.591e+03, 3.185e+03, 3.854e+03,\n",
       "        4.430e+03, 4.740e+03, 5.259e+03, 5.597e+03, 6.000e+03, 6.152e+03,\n",
       "        6.135e+03, 5.874e+03, 5.671e+03, 5.206e+03, 4.857e+03, 4.355e+03,\n",
       "        3.790e+03, 3.267e+03, 2.700e+03, 2.118e+03, 1.706e+03, 1.291e+03,\n",
       "        9.800e+02, 7.210e+02, 4.400e+02, 3.280e+02, 2.190e+02, 1.330e+02,\n",
       "        7.900e+01, 5.200e+01, 2.800e+01, 9.000e+00, 7.000e+00, 5.000e+00,\n",
       "        3.000e+00, 1.000e+00]),\n",
       " array([1.58045943, 1.7229055 , 1.86535157, 2.00779764, 2.15024371,\n",
       "        2.29268978, 2.43513585, 2.57758192, 2.72002799, 2.86247406,\n",
       "        3.00492013, 3.1473662 , 3.28981227, 3.43225834, 3.57470441,\n",
       "        3.71715048, 3.85959655, 4.00204262, 4.14448869, 4.28693476,\n",
       "        4.42938083, 4.5718269 , 4.71427297, 4.85671904, 4.99916511,\n",
       "        5.14161118, 5.28405725, 5.42650332, 5.56894939, 5.71139546,\n",
       "        5.85384153, 5.9962876 , 6.13873367, 6.28117974, 6.42362581,\n",
       "        6.56607188, 6.70851795, 6.85096401, 6.99341008, 7.13585615,\n",
       "        7.27830222, 7.42074829, 7.56319436, 7.70564043, 7.8480865 ,\n",
       "        7.99053257, 8.13297864, 8.27542471, 8.41787078, 8.56031685,\n",
       "        8.70276292]),\n",
       " <a list of 50 Patch objects>)"
      ]
     },
     "execution_count": 16,
     "metadata": {},
     "output_type": "execute_result"
    },
    {
     "data": {
      "image/png": "[encoded data removed]",
      "text/plain": [
       "<Figure size 432x288 with 1 Axes>"
      ]
     },
     "metadata": {
      "needs_background": "light"
     },
     "output_type": "display_data"
    }
   ],
   "source": [
    "plt.hist([sum(i) for i in results], 50)"
   ]
  },
  {
   "cell_type": "code",
   "execution_count": null,
   "metadata": {},
   "outputs": [],
   "source": [
    "### Похоже на нормальное распределение"
   ]
  }
 ],
 "metadata": {
  "kernelspec": {
   "display_name": "Python 3",
   "language": "python",
   "name": "python3"
  },
  "language_info": {
   "codemirror_mode": {
    "name": "ipython",
    "version": 3
   },
   "file_extension": ".py",
   "mimetype": "text/x-python",
   "name": "python",
   "nbconvert_exporter": "python",
   "pygments_lexer": "ipython3",
   "version": "3.7.1"
  }
 },
 "nbformat": 4,
 "nbformat_minor": 2
}
